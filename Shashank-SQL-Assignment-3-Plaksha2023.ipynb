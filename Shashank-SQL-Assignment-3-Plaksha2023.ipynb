{
 "cells": [
  {
   "cell_type": "markdown",
   "id": "b3d08535",
   "metadata": {},
   "source": [
    "<img src=\"https://raw.githubusercontent.com/afo/data-x-plaksha/master/imgsource/dx_logo.png\" align=\"left\"></img><br><br><br><br>"
   ]
  },
  {
   "cell_type": "markdown",
   "id": "4c408082",
   "metadata": {},
   "source": [
    "## Plaksha SQL assignment"
   ]
  },
  {
   "cell_type": "markdown",
   "id": "7f7d4113-c3a9-47b2-b7df-b844d49abd22",
   "metadata": {},
   "source": [
    "---\n",
    "\n",
    "## Submission details:\n",
    "\n",
    "Please submit this as a Jupyter Notebook and a PDF of your results (both should show output). Also push your solutions to Github.\n",
    "\n",
    "For the submision create a local database with `sqlite3` or `sqlalchemy` in a Jupyter notebook and make the queries either with a cursor object (and then print the results) or by using pandas `pd.read_sql_query()`."
   ]
  },
  {
   "cell_type": "markdown",
   "id": "0c551f03-7eff-43e2-89a7-a53b54098223",
   "metadata": {},
   "source": [
    "___\n",
    "\n",
    "When completing this homework you can experiment with SQL commands by utilizing this great online editor:\n",
    "\n",
    "https://www.w3schools.com/sql/trysql.asp?filename=trysql_select_all\n",
    "\n",
    "There are already some tables in the online Database, namely:\n",
    "\n",
    "`Categories, Employees, OrderDetails, Orders, Products, Shippers, and Suppliers.`\n",
    "\n",
    "If you want you can drop them by running  `DROP TABLE [table-name];` (or just keep them)."
   ]
  },
  {
   "cell_type": "markdown",
   "id": "dccc820f-21b0-4b2c-9ca8-9cb9eab76023",
   "metadata": {},
   "source": [
    "___\n",
    "\n",
    "## Exercises:\n",
    "\n",
    "First create a table called students. It has the columns: 'student_id', 'name', 'major', 'gpa' and 'enrollment_date' We will use a new form of `CREATE TABLE` expression to produce this table.\n",
    "\n",
    "Note that you can improve this and are welcome to do so -- e.g. by specifying for example a PRIMARY KEY and a FOREIGN KEY in Q2 :)\n",
    "\n",
    "    CREATE TABLE students AS\n",
    "        SELECT 1 AS student_id, \"John\" AS name, \"Computer Science\" AS major, 3.5 AS gpa, \"01-01-2022\" AS enrollment_date UNION\n",
    "        SELECT 2, \"Jane\", \"Physics\", 3.8, \"01-02-2022\" UNION\n",
    "        SELECT 3, \"Bob\", \"Engineering\", 3.0, \"01-03-2022\" UNION\n",
    "        SELECT 4, \"Samantha\", \"Physics\", 3.9, \"01-04-2022\" UNION\n",
    "        SELECT 5, \"James\", \"Engineering\", 3.7, \"01-05-2022\" UNION\n",
    "        SELECT 6, \"Emily\", \"Computer Science\", 3.6, \"01-06-2022\" UNION\n",
    "        SELECT 7, \"Michael\", \"Computer Science\", 3.2, \"01-07-2022\" UNION\n",
    "        SELECT 8, \"Jessica\", \"Engineering\", 3.8, \"01-08-2022\" UNION\n",
    "        SELECT 9, \"Jacob\", \"Physics\", 3.4, \"01-09-2022\" UNION\n",
    "        SELECT 10, \"Ashley\", \"Physics\", 3.9, \"01-10-2022\";\n",
    "\n",
    "\n",
    "## Q1 Simple SELECTS (on the students table)\n",
    "1. SELECT all records in the table.\n",
    "2. SELECT students whose major is \"Computer Science\".\n",
    "3. SELECT all unique majors (use SELECT DISTINCT) and order them by name, descending order (i.e. Physics first).\n",
    "4. SELECT all students that have an 'e' in their name and order them by gpa in ascending order.\n",
    "\n",
    "\n",
    "## Q2 Joins\n",
    "\n",
    "Create a new table called courses, which indicates the courses taken by the students. \n",
    "\n",
    "Create the table by running:\n",
    "\t\n",
    "    CREATE TABLE courses AS\n",
    "        SELECT 1 AS course_id, \"Python programming\" AS course_name, 1 AS student_id, \"A\" AS grade UNION\n",
    "        SELECT 2, \"Data Structures\", 2, \"B\" UNION\n",
    "        SELECT 3, \"Database Systems\", 3, \"B\" UNION\n",
    "        SELECT 1, \"Python programming\", 4, \"A\" UNION\n",
    "        SELECT 4, \"Quantum Mechanics\", 5, \"C\" UNION\n",
    "        SELECT 1, \"Python programming\", 6, \"F\" UNION\n",
    "        SELECT 2, \"Data Structures\", 7, \"C\" UNION\n",
    "        SELECT 3, \"Database Systems\", 8, \"A\" UNION\n",
    "        SELECT 4, \"Quantum Mechanics\", 9, \"A\" UNION\n",
    "        SELECT 2, \"Data Structures\", 10, \"F\";\n",
    "\n",
    "1. COUNT the number of unique courses.\n",
    "2. JOIN the tables students and courses and COUNT the number of students with the major Computer Science taking the course Python programming.\n",
    "3. JOIN the tables students and courses and select the students who have grades higher than \"C\", only show their name, major, gpa, course_name and grade.\n",
    "\n",
    "\n",
    "## Q3 Aggregate functions, numerical logic and grouping\n",
    "\n",
    "1. Find the average gpa of all students.\n",
    "2. SELECT the student with the maximum gpa, display only their student_id, major and gpa\n",
    "3. SELECT the student with the minimum gpa, display only their student_id, major and gpa\n",
    "4. SELECT the students with a gpa greater than 3.6 in the majors of \"Physics\" and \"Engineering\", display only their student_id, major and gpa\n",
    "5. Group the students by their major and retrieve the average grade of each major.\n",
    "6. SELECT the top 2 students with the highest GPA in each major and order the results by major in ascending order, then by GPA in descending order"
   ]
  },
  {
   "cell_type": "markdown",
   "id": "8c94e864",
   "metadata": {},
   "source": []
  },
  {
   "cell_type": "markdown",
   "id": "3ab84519",
   "metadata": {},
   "source": [
    "# Your solution"
   ]
  },
  {
   "cell_type": "code",
   "execution_count": 2,
   "id": "c7cff114",
   "metadata": {},
   "outputs": [],
   "source": [
    "# sqlite3 package comes with the Python installation\n",
    "import sqlite3"
   ]
  },
  {
   "cell_type": "code",
   "execution_count": 3,
   "id": "c659d164",
   "metadata": {},
   "outputs": [],
   "source": [
    "# open connnection to a db file stored locally on disk\n",
    "# if file doesn't exist it is created\n",
    "connection = sqlite3.connect('table.db')"
   ]
  },
  {
   "cell_type": "code",
   "execution_count": 4,
   "id": "a593944f",
   "metadata": {},
   "outputs": [],
   "source": [
    "# In order to run SQL commands with\n",
    "# sqlite 3 we must create a cursor object\n",
    "# that traverses the database\n",
    "cursor = connection.cursor()\n",
    "\n",
    "# to run sql commands execute them"
   ]
  },
  {
   "cell_type": "code",
   "execution_count": 5,
   "id": "1909dbf0",
   "metadata": {},
   "outputs": [
    {
     "data": {
      "text/plain": [
       "<sqlite3.Cursor at 0x2092ad458f0>"
      ]
     },
     "execution_count": 5,
     "metadata": {},
     "output_type": "execute_result"
    }
   ],
   "source": [
    "# Check that we are working with an empty db\n",
    "cursor.execute(\"DROP TABLE IF EXISTS students;\")"
   ]
  },
  {
   "cell_type": "code",
   "execution_count": 6,
   "id": "81bbf3f3",
   "metadata": {},
   "outputs": [],
   "source": [
    "sql_command = \"\"\"\n",
    "    CREATE TABLE IF NOT EXISTS students AS\n",
    "        SELECT 1 AS student_id, \"John\" AS name, \"Computer Science\" AS major, 3.5 AS gpa, \"01-01-2022\" AS enrollment_date UNION\n",
    "        SELECT 2, \"Jane\", \"Physics\", 3.8, \"01-02-2022\" UNION\n",
    "        SELECT 3, \"Bob\", \"Engineering\", 3.0, \"01-03-2022\" UNION\n",
    "        SELECT 4, \"Samantha\", \"Physics\", 3.9, \"01-04-2022\" UNION\n",
    "        SELECT 5, \"James\", \"Engineering\", 3.7, \"01-05-2022\" UNION\n",
    "        SELECT 6, \"Emily\", \"Computer Science\", 3.6, \"01-06-2022\" UNION\n",
    "        SELECT 7, \"Michael\", \"Computer Science\", 3.2, \"01-07-2022\" UNION\n",
    "        SELECT 8, \"Jessica\", \"Engineering\", 3.8, \"01-08-2022\" UNION\n",
    "        SELECT 9, \"Jacob\", \"Physics\", 3.4, \"01-09-2022\" UNION\n",
    "        SELECT 10, \"Ashley\", \"Physics\", 3.9, \"01-10-2022\";\n",
    "\"\"\""
   ]
  },
  {
   "cell_type": "code",
   "execution_count": 7,
   "id": "4e9a4002",
   "metadata": {},
   "outputs": [
    {
     "data": {
      "text/plain": [
       "<sqlite3.Cursor at 0x2092ad458f0>"
      ]
     },
     "execution_count": 7,
     "metadata": {},
     "output_type": "execute_result"
    }
   ],
   "source": [
    "cursor.execute(sql_command)"
   ]
  },
  {
   "cell_type": "code",
   "execution_count": 8,
   "id": "cafedd97",
   "metadata": {},
   "outputs": [],
   "source": [
    "connection.commit()"
   ]
  },
  {
   "cell_type": "markdown",
   "id": "74aa0614",
   "metadata": {},
   "source": [
    "1. SELECT all records in the table."
   ]
  },
  {
   "cell_type": "code",
   "execution_count": 9,
   "id": "1a1b41ad",
   "metadata": {},
   "outputs": [
    {
     "data": {
      "text/plain": [
       "[(1, 'John', 'Computer Science', 3.5, '01-01-2022'),\n",
       " (2, 'Jane', 'Physics', 3.8, '01-02-2022'),\n",
       " (3, 'Bob', 'Engineering', 3.0, '01-03-2022'),\n",
       " (4, 'Samantha', 'Physics', 3.9, '01-04-2022'),\n",
       " (5, 'James', 'Engineering', 3.7, '01-05-2022'),\n",
       " (6, 'Emily', 'Computer Science', 3.6, '01-06-2022'),\n",
       " (7, 'Michael', 'Computer Science', 3.2, '01-07-2022'),\n",
       " (8, 'Jessica', 'Engineering', 3.8, '01-08-2022'),\n",
       " (9, 'Jacob', 'Physics', 3.4, '01-09-2022'),\n",
       " (10, 'Ashley', 'Physics', 3.9, '01-10-2022')]"
      ]
     },
     "execution_count": 9,
     "metadata": {},
     "output_type": "execute_result"
    }
   ],
   "source": [
    "cursor.execute('SELECT * FROM students;').fetchall()"
   ]
  },
  {
   "cell_type": "markdown",
   "id": "5673d749",
   "metadata": {},
   "source": [
    "2. SELECT students whose major is \"Computer Science\".\n"
   ]
  },
  {
   "cell_type": "code",
   "execution_count": 10,
   "id": "dad654e1",
   "metadata": {},
   "outputs": [
    {
     "data": {
      "text/plain": [
       "[(1, 'John', 'Computer Science', 3.5, '01-01-2022'),\n",
       " (6, 'Emily', 'Computer Science', 3.6, '01-06-2022'),\n",
       " (7, 'Michael', 'Computer Science', 3.2, '01-07-2022')]"
      ]
     },
     "execution_count": 10,
     "metadata": {},
     "output_type": "execute_result"
    }
   ],
   "source": [
    "# WHERE CLAUSE TO RETRIEVE DATA\n",
    "cursor.execute(\"SELECT * from students WHERE major Like'Computer Science'\").fetchall()"
   ]
  },
  {
   "cell_type": "markdown",
   "id": "1a38fe87",
   "metadata": {},
   "source": [
    "3. SELECT all unique majors (use SELECT DISTINCT) and order them by name, descending order (i.e. Physics first)."
   ]
  },
  {
   "cell_type": "code",
   "execution_count": 11,
   "id": "bd50c702",
   "metadata": {},
   "outputs": [
    {
     "data": {
      "text/plain": [
       "[('Physics',), ('Engineering',), ('Computer Science',)]"
      ]
     },
     "execution_count": 11,
     "metadata": {},
     "output_type": "execute_result"
    }
   ],
   "source": [
    "cursor.execute(\"SELECT DISTINCT major FROM students ORDER BY major DESC;\").fetchall()"
   ]
  },
  {
   "cell_type": "markdown",
   "id": "7334a013",
   "metadata": {},
   "source": [
    "4. SELECT all students that have an 'e' in their name and order them by gpa in ascending order."
   ]
  },
  {
   "cell_type": "code",
   "execution_count": 12,
   "id": "f00be49d",
   "metadata": {},
   "outputs": [
    {
     "data": {
      "text/plain": [
       "[(7, 'Michael', 'Computer Science', 3.2, '01-07-2022'),\n",
       " (6, 'Emily', 'Computer Science', 3.6, '01-06-2022'),\n",
       " (5, 'James', 'Engineering', 3.7, '01-05-2022'),\n",
       " (2, 'Jane', 'Physics', 3.8, '01-02-2022'),\n",
       " (8, 'Jessica', 'Engineering', 3.8, '01-08-2022'),\n",
       " (10, 'Ashley', 'Physics', 3.9, '01-10-2022')]"
      ]
     },
     "execution_count": 12,
     "metadata": {},
     "output_type": "execute_result"
    }
   ],
   "source": [
    "cursor.execute(\"SELECT * FROM students WHERE name LIKE '%e%' ORDER BY gpa ASC;\").fetchall()"
   ]
  },
  {
   "attachments": {},
   "cell_type": "markdown",
   "id": "4c3bf8f4",
   "metadata": {},
   "source": [
    "## Q2 Joins"
   ]
  },
  {
   "cell_type": "code",
   "execution_count": 13,
   "id": "6ad4ab6d",
   "metadata": {},
   "outputs": [],
   "source": [
    "sql_command1 = \"\"\"\n",
    "    CREATE TABLE IF NOT EXISTS courses AS\n",
    "        SELECT 1 AS course_id, \"Python programming\" AS course_name, 1 AS student_id, \"A\" AS grade UNION\n",
    "        SELECT 2, \"Data Structures\", 2, \"B\" UNION\n",
    "        SELECT 3, \"Database Systems\", 3, \"B\" UNION\n",
    "        SELECT 1, \"Python programming\", 4, \"A\" UNION\n",
    "        SELECT 4, \"Quantum Mechanics\", 5, \"C\" UNION\n",
    "        SELECT 1, \"Python programming\", 6, \"F\" UNION\n",
    "        SELECT 2, \"Data Structures\", 7, \"C\" UNION\n",
    "        SELECT 3, \"Database Systems\", 8, \"A\" UNION\n",
    "        SELECT 4, \"Quantum Mechanics\", 9, \"A\" UNION\n",
    "        SELECT 2, \"Data Structures\", 10, \"F\";\n",
    "\"\"\""
   ]
  },
  {
   "cell_type": "code",
   "execution_count": 14,
   "id": "8d00e5fa",
   "metadata": {},
   "outputs": [
    {
     "data": {
      "text/plain": [
       "<sqlite3.Cursor at 0x2092ad458f0>"
      ]
     },
     "execution_count": 14,
     "metadata": {},
     "output_type": "execute_result"
    }
   ],
   "source": [
    "cursor.execute(sql_command1)"
   ]
  },
  {
   "cell_type": "code",
   "execution_count": 15,
   "id": "d5557618",
   "metadata": {},
   "outputs": [],
   "source": [
    "connection.commit()"
   ]
  },
  {
   "attachments": {},
   "cell_type": "markdown",
   "id": "ce7e788e",
   "metadata": {},
   "source": [
    "1.COUNT the number of unique courses."
   ]
  },
  {
   "cell_type": "code",
   "execution_count": 16,
   "id": "f3e05e2e",
   "metadata": {},
   "outputs": [
    {
     "name": "stdout",
     "output_type": "stream",
     "text": [
      "Number of unique courses are: 4\n"
     ]
    }
   ],
   "source": [
    "cursor.execute(\"SELECT COUNT(DISTINCT course_name) FROM courses;\")\n",
    "result = cursor.fetchone()\n",
    "print(\"Number of unique courses are:\", result[0])"
   ]
  },
  {
   "attachments": {},
   "cell_type": "markdown",
   "id": "cb3bb3f1",
   "metadata": {},
   "source": [
    "2. JOIN the tables students and courses and COUNT the number of students with the major Computer Science taking the course Python programming."
   ]
  },
  {
   "cell_type": "code",
   "execution_count": 17,
   "id": "889dd55a",
   "metadata": {},
   "outputs": [
    {
     "name": "stdout",
     "output_type": "stream",
     "text": [
      "Number of students with the major Computer Science taking the course Python programming: 2\n"
     ]
    }
   ],
   "source": [
    "cursor.execute(\"\"\"SELECT COUNT(*) FROM students JOIN courses ON students.student_id = courses.student_id \n",
    "WHERE students.major = 'Computer Science' AND courses.course_name = 'Python programming';\"\"\")\n",
    "result = cursor.fetchone()\n",
    "print(\"Number of students with the major Computer Science taking the course Python programming:\", result[0])"
   ]
  },
  {
   "attachments": {},
   "cell_type": "markdown",
   "id": "239ac2e3",
   "metadata": {},
   "source": [
    "3. JOIN the tables students and courses and select the students who have grades higher than \"C\", only show their name, major, gpa, course_name and grade."
   ]
  },
  {
   "cell_type": "code",
   "execution_count": 28,
   "id": "20089611",
   "metadata": {},
   "outputs": [
    {
     "name": "stdout",
     "output_type": "stream",
     "text": [
      "The students who have grades higher than C are listed below:\n",
      "Name: John, Major: Computer Science, GPA: 3.5, Course_name: Python programming, Grade: A\n",
      "Name: Samantha, Major: Physics, GPA: 3.9, Course_name: Python programming, Grade: A\n",
      "Name: Jane, Major: Physics, GPA: 3.8, Course_name: Data Structures, Grade: B\n",
      "Name: Bob, Major: Engineering, GPA: 3.0, Course_name: Database Systems, Grade: B\n",
      "Name: Jessica, Major: Engineering, GPA: 3.8, Course_name: Database Systems, Grade: A\n",
      "Name: Jacob, Major: Physics, GPA: 3.4, Course_name: Quantum Mechanics, Grade: A\n"
     ]
    }
   ],
   "source": [
    "cursor.execute(\"\"\"\n",
    "SELECT name, major, gpa, course_name, grade\n",
    "FROM students\n",
    "JOIN courses ON students.student_id = courses.student_id\n",
    "WHERE grade < \"C\";\n",
    "\"\"\")\n",
    "\n",
    "result = cursor.fetchall()\n",
    "print(\"The students who have grades higher than C are listed below:\")\n",
    "for i in result:\n",
    "    print(f\"Name: {i[0]}, Major: {i[1]}, GPA: {i[2]}, Course_name: {i[3]}, Grade: {i[4]}\")"
   ]
  },
  {
   "attachments": {},
   "cell_type": "markdown",
   "id": "565022d6",
   "metadata": {},
   "source": [
    "## Q3 Aggregate functions, numerical logic and grouping\n",
    "\n",
    "1. Find the average gpa of all students.\n",
    "2. SELECT the student with the maximum gpa, display only their student_id, major and gpa\n",
    "3. SELECT the student with the minimum gpa, display only their student_id, major and gpa\n",
    "4. SELECT the students with a gpa greater than 3.6 in the majors of \"Physics\" and \"Engineering\", display only their student_id, major and gpa\n",
    "5. Group the students by their major and retrieve the average grade of each major.\n",
    "6. SELECT the top 2 students with the highest GPA in each major and order the results by major in ascending order, then by GPA in descending order"
   ]
  },
  {
   "cell_type": "code",
   "execution_count": 19,
   "id": "f60c128b",
   "metadata": {},
   "outputs": [
    {
     "name": "stdout",
     "output_type": "stream",
     "text": [
      "Average GPA is: 3.5800000000000005\n"
     ]
    }
   ],
   "source": [
    "# 1. Find the average gpa of all students\n",
    "cursor.execute(\"SELECT AVG(gpa) FROM students\")\n",
    "print(\"Average GPA is:\", cursor.fetchone()[0])"
   ]
  },
  {
   "cell_type": "code",
   "execution_count": 20,
   "id": "58d7a3b6",
   "metadata": {},
   "outputs": [
    {
     "name": "stdout",
     "output_type": "stream",
     "text": [
      "The student with the maximum GPA is: ID:4, Major:Physics, and GPA:3.9\n"
     ]
    }
   ],
   "source": [
    "# 2. SELECT the student with the maximum gpa, display only their student_id, major and gpa\n",
    "cursor.execute(\"\"\"\n",
    "SELECT student_id, major, gpa\n",
    "FROM students\n",
    "WHERE gpa = (SELECT MAX(gpa) FROM students);\n",
    "\"\"\")\n",
    "result = cursor.fetchone()\n",
    "print(f\"The student with the maximum GPA is: ID:{result[0]}, Major:{result[1]}, and GPA:{result[2]}\")"
   ]
  },
  {
   "cell_type": "code",
   "execution_count": 29,
   "id": "20683752",
   "metadata": {},
   "outputs": [
    {
     "name": "stdout",
     "output_type": "stream",
     "text": [
      "The student with the minimum GPA is ID: 3, Major: Engineering and GPA: 3.0\n"
     ]
    }
   ],
   "source": [
    "# 3. SELECT the student with the minimum gpa, display only their student_id, major and gpa\n",
    "cursor.execute(\"\"\"\n",
    "SELECT student_id, major, gpa FROM students WHERE gpa = (SELECT MIN(gpa) FROM students);\n",
    "\"\"\")\n",
    "result = cursor.fetchone()\n",
    "print(f\"The student with the minimum GPA is ID: {result[0]}, Major: {result[1]} and GPA: {result[2]}\")"
   ]
  },
  {
   "cell_type": "code",
   "execution_count": 22,
   "id": "051b60c7",
   "metadata": {},
   "outputs": [
    {
     "name": "stdout",
     "output_type": "stream",
     "text": [
      "Student ID: 2, Major: Physics, and GPA: 3.8\n",
      "Student ID: 4, Major: Physics, and GPA: 3.9\n",
      "Student ID: 5, Major: Engineering, and GPA: 3.7\n",
      "Student ID: 8, Major: Engineering, and GPA: 3.8\n",
      "Student ID: 10, Major: Physics, and GPA: 3.9\n"
     ]
    }
   ],
   "source": [
    "# 4. SELECT the students with a gpa greater than 3.6 in the majors of \"Physics\" and \"Engineering\", display only their student_id, major and gpa\n",
    "cursor.execute(\"\"\"\n",
    "SELECT student_id, major, gpa FROM students WHERE (major = 'Physics' OR major = 'Engineering') AND gpa > 3.6;\n",
    "\"\"\")\n",
    "result = cursor.fetchall()\n",
    "for i in result:\n",
    "    print(f\"Student ID: {i[0]}, Major: {i[1]}, and GPA: {i[2]}\")\n"
   ]
  },
  {
   "cell_type": "code",
   "execution_count": 23,
   "id": "83e0f66e",
   "metadata": {},
   "outputs": [
    {
     "name": "stdout",
     "output_type": "stream",
     "text": [
      "Major: Computer Science and Average GPA is: 3.4333333333333336\n",
      "Major: Engineering and Average GPA is: 3.5\n",
      "Major: Physics and Average GPA is: 3.75\n"
     ]
    }
   ],
   "source": [
    "# 5. Group the students by their major and retrieve the average grade of each major.\n",
    "cursor.execute(\"\"\"\n",
    "SELECT major, AVG(gpa) as average_gpa FROM students GROUP BY major;\n",
    "\"\"\")\n",
    "result = cursor.fetchall()\n",
    "for i in result:\n",
    "    print(f\"Major: {i[0]} and Average GPA is: {i[1]}\")"
   ]
  },
  {
   "cell_type": "code",
   "execution_count": 24,
   "id": "19e0574a",
   "metadata": {},
   "outputs": [
    {
     "name": "stdout",
     "output_type": "stream",
     "text": [
      "Student ID: 6, Major: Computer Science, and GPA: 3.6\n",
      "Student ID: 1, Major: Computer Science, and GPA: 3.5\n",
      "Student ID: 8, Major: Engineering, and GPA: 3.8\n",
      "Student ID: 5, Major: Engineering, and GPA: 3.7\n",
      "Student ID: 4, Major: Physics, and GPA: 3.9\n",
      "Student ID: 10, Major: Physics, and GPA: 3.9\n"
     ]
    }
   ],
   "source": [
    "\n",
    "# 6. SELECT the top 2 students with the highest GPA in each major and order the results by major in ascending order, \n",
    "# then by GPA in descending order\n",
    "cursor.execute(\"\"\"\n",
    "WITH hgpa AS (\n",
    "  SELECT student_id, major, gpa, \n",
    "    ROW_NUMBER() OVER (PARTITION BY major ORDER BY gpa DESC) AS rank\n",
    "  FROM students\n",
    ")\n",
    "SELECT student_id, major, gpa\n",
    "FROM hgpa\n",
    "WHERE rank <= 2\n",
    "ORDER BY major, gpa DESC;\n",
    "\"\"\")\n",
    "result = cursor.fetchall()\n",
    "for i in result:\n",
    "    print(f\"Student ID: {i[0]}, Major: {i[1]}, and GPA: {i[2]}\")\n"
   ]
  },
  {
   "cell_type": "code",
   "execution_count": 25,
   "id": "57f16821",
   "metadata": {},
   "outputs": [],
   "source": [
    "connection.commit()"
   ]
  },
  {
   "cell_type": "code",
   "execution_count": null,
   "id": "64e48c96",
   "metadata": {},
   "outputs": [],
   "source": []
  }
 ],
 "metadata": {
  "kernelspec": {
   "display_name": "base",
   "language": "python",
   "name": "python3"
  },
  "language_info": {
   "codemirror_mode": {
    "name": "ipython",
    "version": 3
   },
   "file_extension": ".py",
   "mimetype": "text/x-python",
   "name": "python",
   "nbconvert_exporter": "python",
   "pygments_lexer": "ipython3",
   "version": "3.9.12"
  },
  "vscode": {
   "interpreter": {
    "hash": "fbe1b5b6da6e247afa4dd5813f313552d391753a287fd62a8e8b908427a36ee8"
   }
  }
 },
 "nbformat": 4,
 "nbformat_minor": 5
}
